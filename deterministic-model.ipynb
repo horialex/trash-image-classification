{
 "cells": [
  {
   "cell_type": "code",
   "execution_count": 1,
   "metadata": {},
   "outputs": [],
   "source": [
    "import json\n",
    "import numpy as np\n",
    "import tensorflow as tf\n",
    "import keras\n",
    "from keras import layers\n",
    "from keras import initializers\n",
    "\n",
    "# Set the seed using keras.utils.set_random_seed. This will set:\n",
    "# 1) `numpy` seed\n",
    "# 2) backend random seed\n",
    "# 3) `python` random seed\n",
    "keras.utils.set_random_seed(812)\n",
    "\n",
    "# If using TensorFlow, this will make GPU ops as deterministic as possible,\n",
    "# but it will affect the overall performance, so be mindful of that.\n",
    "tf.config.experimental.enable_op_determinism()"
   ]
  },
  {
   "cell_type": "code",
   "execution_count": 2,
   "metadata": {},
   "outputs": [],
   "source": [
    "def train_model(train_data: tf.data.Dataset, test_data: tf.data.Dataset) -> dict:\n",
    "    model = keras.Sequential(\n",
    "        [\n",
    "            layers.Conv2D(32, (3, 3), activation=\"relu\"),\n",
    "            layers.MaxPooling2D((2, 2)),\n",
    "            layers.Dropout(0.2),\n",
    "            layers.Conv2D(32, (3, 3), activation=\"relu\"),\n",
    "            layers.MaxPooling2D((2, 2)),\n",
    "            layers.Dropout(0.2),\n",
    "            layers.Conv2D(32, (3, 3), activation=\"relu\"),\n",
    "            layers.GlobalAveragePooling2D(),\n",
    "            layers.Dense(64, activation=\"relu\"),\n",
    "            layers.Dropout(0.2),\n",
    "            layers.Dense(10, activation=\"softmax\"),\n",
    "        ]\n",
    "    )\n",
    "\n",
    "    model.compile(\n",
    "        optimizer=\"adam\", loss=\"sparse_categorical_crossentropy\", metrics=[\"accuracy\"]\n",
    "    )\n",
    "\n",
    "    # model.fit has a `shuffle` parameter which has a default value of `True`.\n",
    "    # If you are using array-like objects, this will shuffle the data before\n",
    "    # training. This argument is ignored when `x` is a generator or\n",
    "    # [`tf.data.Dataset`](https://www.tensorflow.org/api_docs/python/tf/data/Dataset).\n",
    "    history = model.fit(train_data, epochs=2, validation_data=test_data)\n",
    "\n",
    "    print(f\"Model accuracy on test data: {model.evaluate(test_data)[1] * 100:.2f}%\")\n",
    "\n",
    "    return history.history\n",
    "\n",
    "\n",
    "# Load the MNIST dataset\n",
    "(train_images, train_labels), (\n",
    "    test_images,\n",
    "    test_labels,\n",
    ") = keras.datasets.mnist.load_data()\n",
    "\n",
    "# Construct tf.data.Dataset objects\n",
    "train_ds = tf.data.Dataset.from_tensor_slices((train_images, train_labels))\n",
    "test_ds = tf.data.Dataset.from_tensor_slices((test_images, test_labels))"
   ]
  },
  {
   "cell_type": "code",
   "execution_count": 3,
   "metadata": {},
   "outputs": [],
   "source": [
    "def prepare_dataset(image, label):\n",
    "    # Cast and normalize the image\n",
    "    image = tf.cast(image, tf.float32) / 255.0\n",
    "\n",
    "    # Expand the channel dimension\n",
    "    image = tf.expand_dims(image, axis=-1)\n",
    "\n",
    "    # Resize the image\n",
    "    image = tf.image.resize(image, (32, 32))\n",
    "\n",
    "    return image, label"
   ]
  },
  {
   "cell_type": "code",
   "execution_count": 4,
   "metadata": {},
   "outputs": [],
   "source": [
    "# Prepare the datasets, batch-map --> vectorized operations\n",
    "train_data = (\n",
    "    train_ds.shuffle(buffer_size=len(train_images))\n",
    "    .batch(batch_size=64)\n",
    "    .map(prepare_dataset, num_parallel_calls=tf.data.AUTOTUNE)\n",
    "    .prefetch(buffer_size=tf.data.AUTOTUNE)\n",
    ")\n",
    "\n",
    "test_data = (\n",
    "    test_ds.batch(batch_size=64)\n",
    "    .map(prepare_dataset, num_parallel_calls=tf.data.AUTOTUNE)\n",
    "    .prefetch(buffer_size=tf.data.AUTOTUNE)\n",
    ")"
   ]
  },
  {
   "cell_type": "code",
   "execution_count": 5,
   "metadata": {},
   "outputs": [
    {
     "name": "stdout",
     "output_type": "stream",
     "text": [
      "Epoch 1/2\n",
      "938/938 [==============================] - 27s 26ms/step - loss: 0.7167 - accuracy: 0.7571 - val_loss: 0.2014 - val_accuracy: 0.9408\n",
      "Epoch 2/2\n",
      "938/938 [==============================] - 24s 25ms/step - loss: 0.2436 - accuracy: 0.9261 - val_loss: 0.1117 - val_accuracy: 0.9681\n",
      "157/157 [==============================] - 1s 8ms/step - loss: 0.1117 - accuracy: 0.9681\n",
      "Model accuracy on test data: 96.81%\n"
     ]
    }
   ],
   "source": [
    "history = train_model(train_data, test_data)"
   ]
  },
  {
   "cell_type": "code",
   "execution_count": 6,
   "metadata": {},
   "outputs": [],
   "source": [
    "# Save the history object into a json file\n",
    "with open(\"history2.json\", \"w\") as fp:\n",
    "    json.dump(history, fp)"
   ]
  }
 ],
 "metadata": {
  "kernelspec": {
   "display_name": "image-classification-env",
   "language": "python",
   "name": "python3"
  },
  "language_info": {
   "codemirror_mode": {
    "name": "ipython",
    "version": 3
   },
   "file_extension": ".py",
   "mimetype": "text/x-python",
   "name": "python",
   "nbconvert_exporter": "python",
   "pygments_lexer": "ipython3",
   "version": "3.10.13"
  }
 },
 "nbformat": 4,
 "nbformat_minor": 2
}
