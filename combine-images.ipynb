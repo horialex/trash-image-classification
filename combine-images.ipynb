{
 "cells": [
  {
   "cell_type": "code",
   "execution_count": 1,
   "metadata": {},
   "outputs": [],
   "source": [
    "import os\n",
    "import cv2\n",
    "import random"
   ]
  },
  {
   "cell_type": "code",
   "execution_count": 2,
   "metadata": {},
   "outputs": [
    {
     "data": {
      "text/plain": [
       "True"
      ]
     },
     "execution_count": 2,
     "metadata": {},
     "output_type": "execute_result"
    }
   ],
   "source": [
    "image2 = cv2.imread(\"./garbage-images/cardboard/cardboard-001.jpg\")\n",
    "image1 = cv2.imread(\"./garbage-images/glass/glass-001.jpg\")\n",
    "# Resize images to the same dimensions (if needed)\n",
    "# image1 = cv2.resize(image1, (desired_width, desired_height))\n",
    "# image2 = cv2.resize(image2, (desired_width, desired_height))\n",
    "\n",
    "# Combine images horizontally\n",
    "composite_image = cv2.hconcat([image1, image2])\n",
    "\n",
    "\n",
    "# Save composite image to your new dataset\n",
    "composite_image_path = \"./composite-images/composite-cardboard-glass.jpeg\"\n",
    "cv2.imwrite(composite_image_path, composite_image)"
   ]
  },
  {
   "cell_type": "code",
   "execution_count": 4,
   "metadata": {},
   "outputs": [
    {
     "name": "stdout",
     "output_type": "stream",
     "text": [
      "['cardboard', 'glass', 'metal', 'paper', 'plastic', 'trash']\n"
     ]
    },
    {
     "data": {
      "text/plain": [
       "True"
      ]
     },
     "execution_count": 4,
     "metadata": {},
     "output_type": "execute_result"
    }
   ],
   "source": [
    "import random\n",
    "\n",
    "# Path to your dataset containing images from different classes\n",
    "dataset_path = \"./garbage-images\"\n",
    "\n",
    "# List all classes in the dataset\n",
    "classes = os.listdir(dataset_path)\n",
    "print(classes)\n",
    "\n",
    "# Choose two random classes\n",
    "class1 = random.choice(classes)\n",
    "class2 = random.choice(classes)\n",
    "while class2 == class1:  # Ensure different classes\n",
    "    class2 = random.choice(classes)\n",
    "\n",
    "# Load random images from each class\n",
    "image1_path = os.path.join(dataset_path, class1, random.choice(os.listdir(os.path.join(dataset_path, class1))))\n",
    "image2_path = os.path.join(dataset_path, class2, random.choice(os.listdir(os.path.join(dataset_path, class2))))\n",
    "\n",
    "# Read images\n",
    "image1 = cv2.imread(image1_path)\n",
    "image2 = cv2.imread(image2_path)\n",
    "\n",
    "# Resize images to the same dimensions (if needed)\n",
    "# image1 = cv2.resize(image1, (desired_width, desired_height))\n",
    "# image2 = cv2.resize(image2, (desired_width, desired_height))\n",
    "\n",
    "# Combine images horizontally\n",
    "composite_image = cv2.hconcat([image1, image2])\n",
    "\n",
    "\n",
    "# Save composite image to your new dataset\n",
    "composite_image_path = \"./composite-images/composite_image.jpg\"\n",
    "cv2.imwrite(composite_image_path, composite_image)"
   ]
  }
 ],
 "metadata": {
  "kernelspec": {
   "display_name": "image-classification-env",
   "language": "python",
   "name": "python3"
  },
  "language_info": {
   "codemirror_mode": {
    "name": "ipython",
    "version": 3
   },
   "file_extension": ".py",
   "mimetype": "text/x-python",
   "name": "python",
   "nbconvert_exporter": "python",
   "pygments_lexer": "ipython3",
   "version": "3.10.13"
  }
 },
 "nbformat": 4,
 "nbformat_minor": 2
}
